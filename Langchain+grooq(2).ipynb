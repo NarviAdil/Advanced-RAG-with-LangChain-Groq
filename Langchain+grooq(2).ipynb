{
  "nbformat": 4,
  "nbformat_minor": 0,
  "metadata": {
    "colab": {
      "provenance": [],
      "gpuType": "T4"
    },
    "kernelspec": {
      "name": "python3",
      "display_name": "Python 3"
    },
    "language_info": {
      "name": "python"
    },
    "accelerator": "GPU"
  },
  "cells": [
    {
      "cell_type": "code",
      "execution_count": null,
      "metadata": {
        "id": "hzmUpoDrVzRy"
      },
      "outputs": [],
      "source": [
        "# 1. Install dependencies\n",
        "%pip install langchain langchain-community langchain-core langchain-groq faiss-cpu pypdf langchain-huggingface chromadb"
      ]
    },
    {
      "cell_type": "code",
      "source": [
        "# 2. Imports\n",
        "import os\n",
        "from langchain_groq import ChatGroq\n",
        "from langchain_community.document_loaders import PyPDFLoader\n",
        "from langchain.text_splitter import RecursiveCharacterTextSplitter\n",
        "from langchain_community.vectorstores import FAISS, Chroma\n",
        "from langchain.embeddings import HuggingFaceEmbeddings\n",
        "from langchain.chains import RetrievalQA, ConversationalRetrievalChain\n",
        "from langchain.prompts import PromptTemplate\n",
        "from langchain.memory import ConversationBufferMemory"
      ],
      "metadata": {
        "id": "tyQbtjuIV6NI"
      },
      "execution_count": 9,
      "outputs": []
    },
    {
      "cell_type": "code",
      "source": [
        "# 3. Set your Groq API key\n",
        "os.environ[\"GROQ_API_KEY\"] = os.getenv(\"GROQ_API_KEY\") or \"api_key\""
      ],
      "metadata": {
        "id": "TW6xLyaYV6PW"
      },
      "execution_count": 3,
      "outputs": []
    },
    {
      "cell_type": "code",
      "source": [
        "# 4. Load multiple PDFs\n",
        "pdf_files = [\n",
        "    \"/content/financial_statements_of_yes_securities_india_limited-1.pdf\",\n",
        "    \"/content/India - TIL - Employee Handbook (2)-1.pdf\"\n",
        "]\n",
        "\n",
        "docs = []\n",
        "for file in pdf_files:\n",
        "    loader = PyPDFLoader(file)\n",
        "    docs.extend(loader.load())"
      ],
      "metadata": {
        "id": "IS7LgwdOV6Tu"
      },
      "execution_count": 4,
      "outputs": []
    },
    {
      "cell_type": "code",
      "source": [
        "# 5. Split into chunks\n",
        "text_splitter = RecursiveCharacterTextSplitter(chunk_size=1000, chunk_overlap=200)\n",
        "documents = text_splitter.split_documents(docs)"
      ],
      "metadata": {
        "id": "-KdGRCi1Wgb7"
      },
      "execution_count": 5,
      "outputs": []
    },
    {
      "cell_type": "code",
      "source": [
        "# 6. Create embeddings + Persistent vector DB\n",
        "embeddings = HuggingFaceEmbeddings(model_name=\"sentence-transformers/all-MiniLM-L6-v2\")\n",
        "vectorstore = Chroma.from_documents(\n",
        "    documents,\n",
        "    embeddings,\n",
        "    persist_directory=\"./chroma_store\"   # ✅ stored on disk\n",
        ")"
      ],
      "metadata": {
        "colab": {
          "base_uri": "https://localhost:8080/"
        },
        "id": "6PbZPl5iWgd4",
        "outputId": "8c8f0d95-1b3c-46a9-8734-bec44271599e"
      },
      "execution_count": 6,
      "outputs": [
        {
          "output_type": "stream",
          "name": "stderr",
          "text": [
            "/tmp/ipython-input-2206514164.py:2: LangChainDeprecationWarning: The class `HuggingFaceEmbeddings` was deprecated in LangChain 0.2.2 and will be removed in 1.0. An updated version of the class exists in the :class:`~langchain-huggingface package and should be used instead. To use it run `pip install -U :class:`~langchain-huggingface` and import as `from :class:`~langchain_huggingface import HuggingFaceEmbeddings``.\n",
            "  embeddings = HuggingFaceEmbeddings(model_name=\"sentence-transformers/all-MiniLM-L6-v2\")\n",
            "/usr/local/lib/python3.12/dist-packages/huggingface_hub/utils/_auth.py:94: UserWarning: \n",
            "The secret `HF_TOKEN` does not exist in your Colab secrets.\n",
            "To authenticate with the Hugging Face Hub, create a token in your settings tab (https://huggingface.co/settings/tokens), set it as secret in your Google Colab and restart your session.\n",
            "You will be able to reuse this secret in all of your notebooks.\n",
            "Please note that authentication is recommended but still optional to access public models or datasets.\n",
            "  warnings.warn(\n"
          ]
        }
      ]
    },
    {
      "cell_type": "code",
      "source": [
        "# 7. Init Groq LLM (use supported model)\n",
        "llm = ChatGroq(\n",
        "    model=\"llama-3.3-70b-versatile\",   # ✅ latest supported\n",
        "    temperature=0\n",
        ")"
      ],
      "metadata": {
        "id": "w6Yk1hD9Z3f7"
      },
      "execution_count": 7,
      "outputs": []
    },
    {
      "cell_type": "code",
      "source": [
        "# 8. Conversational Memory\n",
        "memory = ConversationBufferMemory(\n",
        "    memory_key=\"chat_history\",\n",
        "    return_messages=True,\n",
        "    output_key=\"answer\"\n",
        ")"
      ],
      "metadata": {
        "id": "uSuatxJOZ3hz"
      },
      "execution_count": 13,
      "outputs": []
    },
    {
      "cell_type": "code",
      "source": [
        "# 9. Conversational Retrieval Chain (with citations)\n",
        "qa_chain = ConversationalRetrievalChain.from_llm(\n",
        "    llm=llm,\n",
        "    retriever=vectorstore.as_retriever(search_kwargs={\"k\": 3}),  # top-3 chunks\n",
        "    memory=memory,\n",
        "    return_source_documents=True\n",
        ")\n"
      ],
      "metadata": {
        "id": "IB5RFWrKZ3kU"
      },
      "execution_count": 14,
      "outputs": []
    },
    {
      "cell_type": "code",
      "source": [
        "# 10. Ask questions in a loop\n",
        "while True:\n",
        "    query = input(\"Ask a question (or type 'exit'): \")\n",
        "    if query.lower() == \"exit\":\n",
        "        break\n",
        "\n",
        "    result = qa_chain.invoke({\"question\": query})\n",
        "\n",
        "    print(\"\\nAnswer:\\n\", result[\"answer\"])\n",
        "    print(\"\\nSources:\")\n",
        "    for doc in result[\"source_documents\"]:\n",
        "        print(\" -\", doc.metadata.get(\"source\", \"unknown\"))\n",
        "    print(\"\\n\" + \"-\"*50)"
      ],
      "metadata": {
        "colab": {
          "base_uri": "https://localhost:8080/"
        },
        "id": "ne46BqKlaSV3",
        "outputId": "23e10d4d-1e5f-4967-b959-bfc682522511"
      },
      "execution_count": 15,
      "outputs": [
        {
          "name": "stdout",
          "output_type": "stream",
          "text": [
            "Ask a question (or type 'exit'): summarizations of the pdf with all the points\n",
            "\n",
            "Answer:\n",
            " Here is a summary of the provided text with all the points:\n",
            "\n",
            "1. **Asset Values**:\n",
            "\t* Vehicle: 0.07\n",
            "\t* Sub-Total: 15.61 (with various components)\n",
            "\t* Intangible - Software: 12.36\n",
            "\t* Sub-Total (Intangible): 12.36\n",
            "\t* Total: 27.97\n",
            "\n",
            "2. **Share Information**:\n",
            "\t* Number of shares at the beginning of the year: 80,000,000\n",
            "\t* Total number of equity shares outstanding at the end of the year: 80,000,000\n",
            "\t* Weighted average number of equity shares at the end of the year: 80,955,000 (current year), 80,346,255 (previous year)\n",
            "\t* Face value per share: 10\n",
            "\n",
            "3. **Earnings Per Share (EPS)**:\n",
            "\t* Basic EPS: 2.30 (current year), 0.66 (previous year)\n",
            "\t* Diluted EPS: 2.27 (current year), 0.65 (previous year)\n",
            "\n",
            "4. **Corporate Social Responsibility (CSR)**:\n",
            "\t* Expenditure related to CSR: Rs. 0.10 Cr (current year), Rs. Nil (previous year)\n",
            "\n",
            "5. **Gross Block, Depreciation, and Amortization**:\n",
            "\t* Gross Block: Not explicitly stated\n",
            "\t* Depreciation/Amortization: Not explicitly stated\n",
            "\t* Net Block: Not explicitly stated\n",
            "\n",
            "6. **Sub-Totals and Totals**:\n",
            "\t* Sub-Total (initial): 15.61\n",
            "\t* Sub-Total (Intangible): 12.36\n",
            "\t* Total: 27.97 (initial), 32.26 (with various components), 25.54 (with various components)\n",
            "\n",
            "Sources:\n",
            " - /content/financial_statements_of_yes_securities_india_limited-1.pdf\n",
            " - /content/financial_statements_of_yes_securities_india_limited-1.pdf\n",
            " - /content/financial_statements_of_yes_securities_india_limited-1.pdf\n",
            "\n",
            "--------------------------------------------------\n",
            "Ask a question (or type 'exit'): summarizations of the pdf of finalcial statements with all the points with all the points\n",
            "\n",
            "Answer:\n",
            " Based on the provided context, here are the summarizations of the financial statements with the mentioned points:\n",
            "\n",
            "1. **Basis of Accounting**: The financial statements have been prepared on the accrual basis of accounting and comply with the Accounting Standards specified under section 133 of Companies Act 2013.\n",
            "\n",
            "2. **Compliance**: The financial statements comply with the relevant provisions of the Companies Act, 2013, and other accounting principles generally accepted in India.\n",
            "\n",
            "3. **Currency**: The financial statements are presented in Indian Rupees.\n",
            "\n",
            "4. **Accounting Policies**: The accounting policies have been applied consistently to the periods prescribed in the financial statements, except otherwise disclosed separately.\n",
            "\n",
            "5. **Estimates and Assumptions**: The preparation of the financial statements requires management to make estimates and assumptions that affect the reported amount of assets, liabilities, and disclosure of contingent liabilities.\n",
            "\n",
            "6. **Auditor's Report**: The Independent Auditor's Report states that the financial statements give a true and fair view in conformity with the accounting principles generally accepted in India, of the state of affairs of the Company as at March 31, 2023.\n",
            "\n",
            "7. **Management's Responsibility**: The Management and Board of Directors are responsible for assessing the Company's ability to continue as a going concern, disclosing matters related to going concern, and using the going concern basis of accounting.\n",
            "\n",
            "8. **Auditor's Responsibilities**: The auditor's objectives are to obtain reasonable assurance about whether the Financial Statements as a whole are free from material misstatement, whether due to fraud or error, and to issue an auditor's report.\n",
            "\n",
            "9. **Financial Statements**: The financial statements include the Balance Sheet as at March 31, 2023, the Statement of Profit and Loss, and the Statement of Cash Flows for the year ended on that date, along with notes to the Financial Statements and other explanatory information.\n",
            "\n",
            "10. **Opinion**: The auditor is of the opinion that the financial statements give the information required by the Companies Act, 2013, in the manner so required and give a true and fair view of the state of affairs of the Company as at March 31, 2023.\n",
            "\n",
            "Sources:\n",
            " - /content/financial_statements_of_yes_securities_india_limited-1.pdf\n",
            " - /content/financial_statements_of_yes_securities_india_limited-1.pdf\n",
            " - /content/financial_statements_of_yes_securities_india_limited-1.pdf\n",
            "\n",
            "--------------------------------------------------\n",
            "Ask a question (or type 'exit'): provide me with all the points in finalcaial pdf\n",
            "\n",
            "Answer:\n",
            " The provided text appears to be an excerpt from a financial statement or audit report. The points included are:\n",
            "\n",
            "1. **Balance Sheet Items**:\n",
            "   - Intangible assets\n",
            "   - Investments\n",
            "   - Other non-current assets\n",
            "   - Current assets:\n",
            "     - Trade receivables\n",
            "     - Cash and bank balances\n",
            "     - Other current assets\n",
            "     - Loans and advances\n",
            "\n",
            "2. **Expenses**:\n",
            "   - Custodial, Depository & Clearing Expenses\n",
            "   - Bank Charges\n",
            "   - Bad debts written off\n",
            "   - Provision for doubtful debts\n",
            "   - Corporate Social Responsibility Expenses\n",
            "   - Foreign Exchange Gain/Loss\n",
            "   - Miscellaneous expenses\n",
            "\n",
            "3. **Audit and Accounting Standards**:\n",
            "   - Reference to the Guidance Note and the Standards on Auditing issued by ICAI\n",
            "   - Compliance with Section 143(10) of the Act regarding internal financial controls audit\n",
            "\n",
            "4. **Notes and References**:\n",
            "   - Notes 2, 12, 13, 14, 15, 16, 17, and 21.2 are mentioned as part of the financial statements or for further explanation.\n",
            "\n",
            "5. **Total Assets**:\n",
            "   - The total of all assets is provided as 730.77 and 731.83 for two different periods.\n",
            "\n",
            "This excerpt does not contain a comprehensive list of all points that might be included in a full financial PDF, such as income statements, equity changes, or detailed notes on each item. It seems to focus on certain aspects of the financial statements and the audit process.\n",
            "\n",
            "Sources:\n",
            " - /content/financial_statements_of_yes_securities_india_limited-1.pdf\n",
            " - /content/financial_statements_of_yes_securities_india_limited-1.pdf\n",
            " - /content/financial_statements_of_yes_securities_india_limited-1.pdf\n",
            "\n",
            "--------------------------------------------------\n",
            "Ask a question (or type 'exit'): Expenses\n",
            "\n",
            "Answer:\n",
            " The expenses listed in the financial PDF are:\n",
            "\n",
            "1. Custodial, Depository & Clearing Expenses\n",
            "2. Bank Charges\n",
            "3. Bad debts written off\n",
            "4. Provision for doubtful debts\n",
            "5. Corporate Social Responsibility Expenses\n",
            "6. Foreign Exchange Gain/Loss\n",
            "7. Miscellaneous expenses\n",
            "8. Payment to auditors (including Statutory audit fees and Out of pocket expenses)\n",
            "9. Current Service Cost\n",
            "10. Interest on Defined Benefit Obligation\n",
            "11. Expected Return on Plan Assets\n",
            "12. Net Actuarial Losses / (Gains) Recognized in Year\n",
            "\n",
            "Note that some of these may be gains (e.g. Foreign Exchange Gain/Loss can be a gain if the value is positive) or may be negative expenses (e.g. Provision for doubtful debts is negative in one of the years, indicating a reduction in the provision).\n",
            "\n",
            "Sources:\n",
            " - /content/financial_statements_of_yes_securities_india_limited-1.pdf\n",
            " - /content/financial_statements_of_yes_securities_india_limited-1.pdf\n",
            " - /content/financial_statements_of_yes_securities_india_limited-1.pdf\n",
            "\n",
            "--------------------------------------------------\n",
            "Ask a question (or type 'exit'): exit\n"
          ]
        }
      ]
    },
    {
      "cell_type": "code",
      "source": [],
      "metadata": {
        "id": "8-dYmFEpaSX-"
      },
      "execution_count": null,
      "outputs": []
    },
    {
      "cell_type": "code",
      "source": [],
      "metadata": {
        "id": "l66FJCI4aSaK"
      },
      "execution_count": null,
      "outputs": []
    }
  ]
}